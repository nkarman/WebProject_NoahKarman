{
 "cells": [
  {
   "cell_type": "code",
   "execution_count": null,
   "metadata": {
    "collapsed": false
   },
   "outputs": [],
   "source": [
    "import matplotlib\n",
    "import numpy as np\n",
    "import matplotlib.pyplot as plt\n",
    "%matplotlib inline\n",
    "import pandas as pd"
   ]
  },
  {
   "cell_type": "code",
   "execution_count": null,
   "metadata": {
    "collapsed": true
   },
   "outputs": [],
   "source": [
    "filename = '2017-02-21.Sweetwater.json'\n",
    "data = pd.read_json(filename)\n",
    "filename2 = '2017-03-02.Sweetwater.json'\n",
    "data2 = pd.read_json(filename2)"
   ]
  },
  {
   "cell_type": "code",
   "execution_count": null,
   "metadata": {
    "collapsed": false
   },
   "outputs": [],
   "source": [
    "data"
   ]
  },
  {
   "cell_type": "code",
   "execution_count": null,
   "metadata": {
    "collapsed": false
   },
   "outputs": [],
   "source": [
    "len(data)"
   ]
  },
  {
   "cell_type": "code",
   "execution_count": null,
   "metadata": {
    "collapsed": false
   },
   "outputs": [],
   "source": [
    "NoDupsData = data.drop_duplicates()\n",
    "len(NoDupsData)"
   ]
  },
  {
   "cell_type": "code",
   "execution_count": null,
   "metadata": {
    "collapsed": false
   },
   "outputs": [],
   "source": [
    "len(data2)"
   ]
  },
  {
   "cell_type": "code",
   "execution_count": null,
   "metadata": {
    "collapsed": false
   },
   "outputs": [],
   "source": [
    "NoDupsData2 = data2.drop_duplicates()\n",
    "len(NoDupsData2)"
   ]
  },
  {
   "cell_type": "code",
   "execution_count": null,
   "metadata": {
    "collapsed": false
   },
   "outputs": [],
   "source": [
    "#Create a dataframe containing the intersection of the two.\n",
    "dataInnerMerge = pd.merge(NoDupsData, NoDupsData2, \\\n",
    "                          on=['ID','Location','Title','Price'],\\\n",
    "                          how='inner')\n",
    "len(dataInnerMerge)"
   ]
  },
  {
   "cell_type": "code",
   "execution_count": null,
   "metadata": {
    "collapsed": false
   },
   "outputs": [],
   "source": [
    "NoDupsData['key1'] = 1\n",
    "dataInnerMerge['key2'] = 1\n",
    "dataInnerMerge.head()"
   ]
  },
  {
   "cell_type": "code",
   "execution_count": null,
   "metadata": {
    "collapsed": false
   },
   "outputs": [],
   "source": [
    "closedProducts = pd.merge(NoDupsData, dataInnerMerge, \\\n",
    "                      on=['ID', 'Title','Location','Price'], \\\n",
    "                      how = 'left')\n",
    "closedProducts"
   ]
  },
  {
   "cell_type": "code",
   "execution_count": null,
   "metadata": {
    "collapsed": false,
    "scrolled": true
   },
   "outputs": [],
   "source": [
    "closedProducts = closedProducts[~(closedProducts.key2 == closedProducts.key1)]\n",
    "closedProducts"
   ]
  },
  {
   "cell_type": "code",
   "execution_count": null,
   "metadata": {
    "collapsed": false
   },
   "outputs": [],
   "source": [
    "NoDupsData2['key1'] = 1\n",
    "newProducts = pd.merge(NoDupsData2, dataInnerMerge, \\\n",
    "                      on=['ID', 'Title','Location','Price'], \\\n",
    "                      how = 'left')\n",
    "newProducts = newProducts[~(newProducts.key2 == newProducts.key1)]\n",
    "newProducts = newProducts.drop(['key1','key2'], axis=1)\n",
    "len(newProducts)"
   ]
  },
  {
   "cell_type": "code",
   "execution_count": null,
   "metadata": {
    "collapsed": false,
    "scrolled": false
   },
   "outputs": [],
   "source": [
    "newProducts"
   ]
  },
  {
   "cell_type": "code",
   "execution_count": null,
   "metadata": {
    "collapsed": false
   },
   "outputs": [],
   "source": [
    ""
   ]
  },
  {
   "cell_type": "code",
   "execution_count": null,
   "metadata": {
    "collapsed": false
   },
   "outputs": [],
   "source": [
    "set(data.Location)\n",
    "# Decisions to be made\n",
    "# Some Zips\n",
    "# Some City, State\n",
    "# Various outputs"
   ]
  },
  {
   "cell_type": "code",
   "execution_count": null,
   "metadata": {
    "collapsed": false
   },
   "outputs": [],
   "source": [
    "data['Location'].replace({'2 Monitors and sub': 'Not Included', \n",
    "                          'DFW' : 'Dallas - Fortworth, TX',\n",
    "                          '84047 Midvale Utah' : 'Midvale, Utah 84047',\n",
    "                          '08085 swedesboro NJ' : 'Swedesboro, NF 08085'\n",
    "                         }, inplace=True)"
   ]
  },
  {
   "cell_type": "code",
   "execution_count": null,
   "metadata": {
    "collapsed": false
   },
   "outputs": [],
   "source": [
    "set(data.Location)"
   ]
  },
  {
   "cell_type": "code",
   "execution_count": null,
   "metadata": {
    "collapsed": false
   },
   "outputs": [],
   "source": [
    "set(data.Price)"
   ]
  },
  {
   "cell_type": "code",
   "execution_count": null,
   "metadata": {
    "collapsed": false
   },
   "outputs": [],
   "source": [
    "data['Price'] = data['Price'].str.replace('$', '')\n",
    "data['Price'] = data['Price'].str.replace(',', '')\n",
    "data['Price'] = data['Price'].str.replace(u'\\xa0', u' ')\n",
    "data['Price'] = data['Price'].str.replace('NEGOTIATE', '.555')\n",
    "data['Price'] = data['Price'].str.replace('SOLD', '.777')\n",
    "data['Price'] = data['Price'].str.replace('1000.U.S', '1000')\n",
    "data['Price'] = data['Price'].str.split().str[0]\n",
    "data['Price'] = data['Price'].str.split('+').str[0]\n",
    "data['Price'] = data['Price'].astype(float)\n",
    "set(data.Price)"
   ]
  },
  {
   "cell_type": "code",
   "execution_count": null,
   "metadata": {
    "collapsed": true
   },
   "outputs": [],
   "source": [
    ""
   ]
  }
 ],
 "metadata": {
  "kernelspec": {
   "display_name": "Python 3",
   "language": "python",
   "name": "python3"
  },
  "language_info": {
   "codemirror_mode": {
    "name": "ipython",
    "version": 3.0
   },
   "file_extension": ".py",
   "mimetype": "text/x-python",
   "name": "python",
   "nbconvert_exporter": "python",
   "pygments_lexer": "ipython3",
   "version": "3.5.1"
  }
 },
 "nbformat": 4,
 "nbformat_minor": 0
}